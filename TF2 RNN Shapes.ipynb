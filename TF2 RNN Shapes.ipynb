{
 "cells": [
  {
   "cell_type": "code",
   "execution_count": 1,
   "id": "e3fb5ce3",
   "metadata": {},
   "outputs": [
    {
     "data": {
      "text/plain": [
       "'2.5.0'"
      ]
     },
     "execution_count": 1,
     "metadata": {},
     "output_type": "execute_result"
    }
   ],
   "source": [
    "import tensorflow as tf\n",
    "tf.__version__"
   ]
  },
  {
   "cell_type": "code",
   "execution_count": 4,
   "id": "894c67f5",
   "metadata": {},
   "outputs": [],
   "source": [
    "from tensorflow.keras.layers import Input, Dense, SimpleRNN, Flatten\n",
    "from tensorflow.keras.models import Model\n",
    "from tensorflow.keras.optimizers import SGD, Adam\n",
    "\n",
    "import numpy as np\n",
    "import pandas as pd\n",
    "import matplotlib.pyplot as plt"
   ]
  },
  {
   "cell_type": "markdown",
   "id": "8dc1d377",
   "metadata": {},
   "source": [
    "### Keterangan\n",
    "N = Jumlah sampel\n",
    "\n",
    "T = Panjang sequence\n",
    "\n",
    "D = jumlah fitur masukkan\n",
    "\n",
    "M = Jumlah hidde unit\n",
    "\n",
    "K = Jumlah output unit\n"
   ]
  },
  {
   "cell_type": "code",
   "execution_count": 5,
   "id": "f678671d",
   "metadata": {},
   "outputs": [],
   "source": [
    "# Membuat beberapa data\n",
    "N = 1\n",
    "T = 10\n",
    "D = 3\n",
    "K = 2\n",
    "X = np.random.randn(N, T, D)"
   ]
  },
  {
   "cell_type": "code",
   "execution_count": 7,
   "id": "d4c80923",
   "metadata": {},
   "outputs": [],
   "source": [
    "# Membuat RNN\n",
    "M = 5 #jumlah hidden unit\n",
    "i = Input(shape=(T, D))\n",
    "x = SimpleRNN(M)(i)\n",
    "x = Dense(K)(x)\n",
    "\n",
    "model = Model(i,x)"
   ]
  },
  {
   "cell_type": "code",
   "execution_count": 8,
   "id": "1eb44b54",
   "metadata": {},
   "outputs": [
    {
     "name": "stdout",
     "output_type": "stream",
     "text": [
      "[[-0.1753972  0.2585571]]\n"
     ]
    }
   ],
   "source": [
    "#Mendapatkan Output\n",
    "Yhat = model.predict(X)\n",
    "print(Yhat)"
   ]
  },
  {
   "cell_type": "code",
   "execution_count": 9,
   "id": "0adfc6c4",
   "metadata": {},
   "outputs": [
    {
     "name": "stdout",
     "output_type": "stream",
     "text": [
      "Model: \"model\"\n",
      "_________________________________________________________________\n",
      "Layer (type)                 Output Shape              Param #   \n",
      "=================================================================\n",
      "input_2 (InputLayer)         [(None, 10, 3)]           0         \n",
      "_________________________________________________________________\n",
      "simple_rnn_1 (SimpleRNN)     (None, 5)                 45        \n",
      "_________________________________________________________________\n",
      "dense_1 (Dense)              (None, 2)                 12        \n",
      "=================================================================\n",
      "Total params: 57\n",
      "Trainable params: 57\n",
      "Non-trainable params: 0\n",
      "_________________________________________________________________\n"
     ]
    }
   ],
   "source": [
    "model.summary()"
   ]
  },
  {
   "cell_type": "code",
   "execution_count": 10,
   "id": "fce5971d",
   "metadata": {},
   "outputs": [
    {
     "data": {
      "text/plain": [
       "[array([[ 0.8587907 , -0.8040451 ,  0.23593003, -0.10300618, -0.4762214 ],\n",
       "        [ 0.7216243 , -0.04635459, -0.42133003, -0.26511735, -0.6827851 ],\n",
       "        [-0.1345135 ,  0.6523637 ,  0.80463904, -0.04362684, -0.39246154]],\n",
       "       dtype=float32),\n",
       " array([[-0.07290804, -0.64570695, -0.24604686,  0.15792166, -0.7016185 ],\n",
       "        [ 0.34465396,  0.6561101 ,  0.03461704, -0.06779085, -0.6670377 ],\n",
       "        [ 0.3233415 , -0.24709567,  0.8757904 ,  0.2534118 , -0.05628285],\n",
       "        [-0.7122398 ,  0.0570589 ,  0.4120754 , -0.5126584 , -0.23839879],\n",
       "        [-0.51387036,  0.2971028 ,  0.03804966,  0.80214024, -0.05282453]],\n",
       "       dtype=float32),\n",
       " array([0., 0., 0., 0., 0.], dtype=float32)]"
      ]
     },
     "execution_count": 10,
     "metadata": {},
     "output_type": "execute_result"
    }
   ],
   "source": [
    "model.layers[1].get_weights()"
   ]
  },
  {
   "cell_type": "code",
   "execution_count": 11,
   "id": "82406ed6",
   "metadata": {},
   "outputs": [
    {
     "name": "stdout",
     "output_type": "stream",
     "text": [
      "(3, 5) (5, 5) (5,)\n"
     ]
    }
   ],
   "source": [
    "# Mengecek shapes\n",
    "# Sebaiknya membuat sense\n",
    "# pertama output adalah input > hidden\n",
    "# kedua output adalah hidden > hidden\n",
    "# ketiga output adalah bias term (vector of length M)\n",
    "a, b, c = model.layers[1].get_weights()\n",
    "print(a.shape, b.shape, c.shape)"
   ]
  },
  {
   "cell_type": "code",
   "execution_count": 12,
   "id": "25817d54",
   "metadata": {},
   "outputs": [],
   "source": [
    "Wx, Wh, bh = model.layers[1].get_weights()\n",
    "Wo, bo = model.layers[2].get_weights()"
   ]
  },
  {
   "cell_type": "code",
   "execution_count": 14,
   "id": "2e92833c",
   "metadata": {},
   "outputs": [
    {
     "name": "stdout",
     "output_type": "stream",
     "text": [
      "[-0.17539725  0.25855712]\n"
     ]
    }
   ],
   "source": [
    "h_last = np.zeros(M) # initial hidden state\n",
    "x = X[0] # satu dan hanya sampel\n",
    "Yhats = [] \n",
    "\n",
    "for t in range(T):\n",
    "    h = np.tanh(x[t].dot(Wx) + h_last.dot(Wh) + bh)\n",
    "    y = h.dot(Wo) + bo # hanya iterasi terakhir\n",
    "    Yhats.append(y)\n",
    "    \n",
    "    #penting : masukkan h ke h_last\n",
    "    h_last = h\n",
    "\n",
    "\n",
    "#print output final\n",
    "print(Yhats[-1])\n"
   ]
  }
 ],
 "metadata": {
  "kernelspec": {
   "display_name": "Python 3 (ipykernel)",
   "language": "python",
   "name": "python3"
  },
  "language_info": {
   "codemirror_mode": {
    "name": "ipython",
    "version": 3
   },
   "file_extension": ".py",
   "mimetype": "text/x-python",
   "name": "python",
   "nbconvert_exporter": "python",
   "pygments_lexer": "ipython3",
   "version": "3.9.7"
  }
 },
 "nbformat": 4,
 "nbformat_minor": 5
}
